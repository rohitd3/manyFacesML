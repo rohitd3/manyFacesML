{
 "cells": [
  {
   "cell_type": "markdown",
   "metadata": {},
   "source": [
    "# What is Pytorch?"
   ]
  },
  {
   "attachments": {},
   "cell_type": "markdown",
   "metadata": {},
   "source": [
    "Pytorch is an extension of Python that is primarily used for developing machine learning frameworks and deep learning models. The Python syntax is mainly used to code. Pytorch integrates with CUDA that allows it to run well on GPUs. With GPU acceleration, Tensor computing(Like NumPy) is viable on Pytorch. Pytorch is used on various high level software, such as Tesla Autopilot, and Uber Pyro for starters. \n"
   ]
  },
  {
   "attachments": {},
   "cell_type": "markdown",
   "metadata": {},
   "source": [
    "# Our Project\n",
    "\n",
    "Our project is a surface level of Pytorch demonstration, and we intend to use it for our own learning purposes as well as yours. As you look through our code, we will try to supplement each segment with supporting blogs to explain as much as we can. \n"
   ]
  }
 ],
 "metadata": {
  "kernelspec": {
   "display_name": "Python 3",
   "language": "python",
   "name": "python3"
  },
  "language_info": {
   "name": "python",
   "version": "3.11.1 (v3.11.1:a7a450f84a, Dec  6 2022, 15:24:06) [Clang 13.0.0 (clang-1300.0.29.30)]"
  },
  "orig_nbformat": 4,
  "vscode": {
   "interpreter": {
    "hash": "aee8b7b246df8f9039afb4144a1f6fd8d2ca17a180786b69acc140d282b71a49"
   }
  }
 },
 "nbformat": 4,
 "nbformat_minor": 2
}

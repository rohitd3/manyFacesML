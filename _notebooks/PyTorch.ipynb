{
 "cells": [
  {
   "cell_type": "markdown",
   "metadata": {},
   "source": [
    "# What is Pytorch?"
   ]
  },
  {
   "attachments": {},
   "cell_type": "markdown",
   "metadata": {},
   "source": [
    "Pytorch is an extension of Python that is primarily used for developing machine learning frameworks and deep learning models. The Python syntax is mainly used to code. Pytorch integrates with CUDA that allows it to run well on GPUs. With GPU acceleration, Tensor computing(Like NumPy) is viable on Pytorch. Pytorch is used on various high level software, such as Tesla Autopilot, and Uber Pyro for starters. \n"
   ]
  },
  {
   "attachments": {},
   "cell_type": "markdown",
   "metadata": {},
   "source": [
    "# Our Project\n",
    "\n",
    "Our project is a surface level of Pytorch demonstration, and we intend to use it for our own learning purposes as well as yours. As you look through our code, we will try to supplement each segment with supporting blogs to explain as much as we can. \n"
   ]
  }
 ],
 "metadata": {
  "language_info": {
   "name": "python"
  },
  "orig_nbformat": 4
 },
 "nbformat": 4,
 "nbformat_minor": 2
}

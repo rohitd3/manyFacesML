{
  "nbformat": 4,
  "nbformat_minor": 0,
  "metadata": {
    "colab": {
      "provenance": [],
      "gpuType": "T4"
    },
    "kernelspec": {
      "name": "python3",
      "display_name": "Python 3"
    },
    "language_info": {
      "name": "python"
    },
    "accelerator": "GPU",
    "gpuClass": "standard"
  },
  "cells": [
    {
      "cell_type": "code",
      "source": [
        "!pip install torch torchvision\n",
        "!pip install torchviz\n",
        "!pip install --upgrade torch torchvision"
      ],
      "metadata": {
        "colab": {
          "base_uri": "https://localhost:8080/"
        },
        "id": "pe_7DqAyJrCG",
        "outputId": "2a92326b-72e6-4b79-b932-25636fb2fade"
      },
      "execution_count": 3,
      "outputs": [
        {
          "output_type": "stream",
          "name": "stdout",
          "text": [
            "Looking in indexes: https://pypi.org/simple, https://us-python.pkg.dev/colab-wheels/public/simple/\n",
            "Requirement already satisfied: torch in /usr/local/lib/python3.10/dist-packages (2.0.1+cu118)\n",
            "Requirement already satisfied: torchvision in /usr/local/lib/python3.10/dist-packages (0.15.2+cu118)\n",
            "Requirement already satisfied: filelock in /usr/local/lib/python3.10/dist-packages (from torch) (3.12.0)\n",
            "Requirement already satisfied: typing-extensions in /usr/local/lib/python3.10/dist-packages (from torch) (4.5.0)\n",
            "Requirement already satisfied: sympy in /usr/local/lib/python3.10/dist-packages (from torch) (1.11.1)\n",
            "Requirement already satisfied: networkx in /usr/local/lib/python3.10/dist-packages (from torch) (3.1)\n",
            "Requirement already satisfied: jinja2 in /usr/local/lib/python3.10/dist-packages (from torch) (3.1.2)\n",
            "Requirement already satisfied: triton==2.0.0 in /usr/local/lib/python3.10/dist-packages (from torch) (2.0.0)\n",
            "Requirement already satisfied: cmake in /usr/local/lib/python3.10/dist-packages (from triton==2.0.0->torch) (3.25.2)\n",
            "Requirement already satisfied: lit in /usr/local/lib/python3.10/dist-packages (from triton==2.0.0->torch) (16.0.5)\n",
            "Requirement already satisfied: numpy in /usr/local/lib/python3.10/dist-packages (from torchvision) (1.22.4)\n",
            "Requirement already satisfied: requests in /usr/local/lib/python3.10/dist-packages (from torchvision) (2.27.1)\n",
            "Requirement already satisfied: pillow!=8.3.*,>=5.3.0 in /usr/local/lib/python3.10/dist-packages (from torchvision) (8.4.0)\n",
            "Requirement already satisfied: MarkupSafe>=2.0 in /usr/local/lib/python3.10/dist-packages (from jinja2->torch) (2.1.2)\n",
            "Requirement already satisfied: urllib3<1.27,>=1.21.1 in /usr/local/lib/python3.10/dist-packages (from requests->torchvision) (1.26.15)\n",
            "Requirement already satisfied: certifi>=2017.4.17 in /usr/local/lib/python3.10/dist-packages (from requests->torchvision) (2022.12.7)\n",
            "Requirement already satisfied: charset-normalizer~=2.0.0 in /usr/local/lib/python3.10/dist-packages (from requests->torchvision) (2.0.12)\n",
            "Requirement already satisfied: idna<4,>=2.5 in /usr/local/lib/python3.10/dist-packages (from requests->torchvision) (3.4)\n",
            "Requirement already satisfied: mpmath>=0.19 in /usr/local/lib/python3.10/dist-packages (from sympy->torch) (1.3.0)\n",
            "Looking in indexes: https://pypi.org/simple, https://us-python.pkg.dev/colab-wheels/public/simple/\n",
            "Collecting torchviz\n",
            "  Downloading torchviz-0.0.2.tar.gz (4.9 kB)\n",
            "  Preparing metadata (setup.py) ... \u001b[?25l\u001b[?25hdone\n",
            "Requirement already satisfied: torch in /usr/local/lib/python3.10/dist-packages (from torchviz) (2.0.1+cu118)\n",
            "Requirement already satisfied: graphviz in /usr/local/lib/python3.10/dist-packages (from torchviz) (0.20.1)\n",
            "Requirement already satisfied: filelock in /usr/local/lib/python3.10/dist-packages (from torch->torchviz) (3.12.0)\n",
            "Requirement already satisfied: typing-extensions in /usr/local/lib/python3.10/dist-packages (from torch->torchviz) (4.5.0)\n",
            "Requirement already satisfied: sympy in /usr/local/lib/python3.10/dist-packages (from torch->torchviz) (1.11.1)\n",
            "Requirement already satisfied: networkx in /usr/local/lib/python3.10/dist-packages (from torch->torchviz) (3.1)\n",
            "Requirement already satisfied: jinja2 in /usr/local/lib/python3.10/dist-packages (from torch->torchviz) (3.1.2)\n",
            "Requirement already satisfied: triton==2.0.0 in /usr/local/lib/python3.10/dist-packages (from torch->torchviz) (2.0.0)\n",
            "Requirement already satisfied: cmake in /usr/local/lib/python3.10/dist-packages (from triton==2.0.0->torch->torchviz) (3.25.2)\n",
            "Requirement already satisfied: lit in /usr/local/lib/python3.10/dist-packages (from triton==2.0.0->torch->torchviz) (16.0.5)\n",
            "Requirement already satisfied: MarkupSafe>=2.0 in /usr/local/lib/python3.10/dist-packages (from jinja2->torch->torchviz) (2.1.2)\n",
            "Requirement already satisfied: mpmath>=0.19 in /usr/local/lib/python3.10/dist-packages (from sympy->torch->torchviz) (1.3.0)\n",
            "Building wheels for collected packages: torchviz\n",
            "  Building wheel for torchviz (setup.py) ... \u001b[?25l\u001b[?25hdone\n",
            "  Created wheel for torchviz: filename=torchviz-0.0.2-py3-none-any.whl size=4131 sha256=e83e4e348fd4a61aad2ea7d4851d11ee11497f670d070637da2c7c6c5f9f9279\n",
            "  Stored in directory: /root/.cache/pip/wheels/4c/97/88/a02973217949e0db0c9f4346d154085f4725f99c4f15a87094\n",
            "Successfully built torchviz\n",
            "Installing collected packages: torchviz\n",
            "Successfully installed torchviz-0.0.2\n",
            "Looking in indexes: https://pypi.org/simple, https://us-python.pkg.dev/colab-wheels/public/simple/\n",
            "Requirement already satisfied: torch in /usr/local/lib/python3.10/dist-packages (2.0.1+cu118)\n",
            "Requirement already satisfied: torchvision in /usr/local/lib/python3.10/dist-packages (0.15.2+cu118)\n",
            "Requirement already satisfied: filelock in /usr/local/lib/python3.10/dist-packages (from torch) (3.12.0)\n",
            "Requirement already satisfied: typing-extensions in /usr/local/lib/python3.10/dist-packages (from torch) (4.5.0)\n",
            "Requirement already satisfied: sympy in /usr/local/lib/python3.10/dist-packages (from torch) (1.11.1)\n",
            "Requirement already satisfied: networkx in /usr/local/lib/python3.10/dist-packages (from torch) (3.1)\n",
            "Requirement already satisfied: jinja2 in /usr/local/lib/python3.10/dist-packages (from torch) (3.1.2)\n",
            "Requirement already satisfied: triton==2.0.0 in /usr/local/lib/python3.10/dist-packages (from torch) (2.0.0)\n",
            "Requirement already satisfied: cmake in /usr/local/lib/python3.10/dist-packages (from triton==2.0.0->torch) (3.25.2)\n",
            "Requirement already satisfied: lit in /usr/local/lib/python3.10/dist-packages (from triton==2.0.0->torch) (16.0.5)\n",
            "Requirement already satisfied: numpy in /usr/local/lib/python3.10/dist-packages (from torchvision) (1.22.4)\n",
            "Requirement already satisfied: requests in /usr/local/lib/python3.10/dist-packages (from torchvision) (2.27.1)\n",
            "Requirement already satisfied: pillow!=8.3.*,>=5.3.0 in /usr/local/lib/python3.10/dist-packages (from torchvision) (8.4.0)\n",
            "Requirement already satisfied: MarkupSafe>=2.0 in /usr/local/lib/python3.10/dist-packages (from jinja2->torch) (2.1.2)\n",
            "Requirement already satisfied: urllib3<1.27,>=1.21.1 in /usr/local/lib/python3.10/dist-packages (from requests->torchvision) (1.26.15)\n",
            "Requirement already satisfied: certifi>=2017.4.17 in /usr/local/lib/python3.10/dist-packages (from requests->torchvision) (2022.12.7)\n",
            "Requirement already satisfied: charset-normalizer~=2.0.0 in /usr/local/lib/python3.10/dist-packages (from requests->torchvision) (2.0.12)\n",
            "Requirement already satisfied: idna<4,>=2.5 in /usr/local/lib/python3.10/dist-packages (from requests->torchvision) (3.4)\n",
            "Requirement already satisfied: mpmath>=0.19 in /usr/local/lib/python3.10/dist-packages (from sympy->torch) (1.3.0)\n"
          ]
        }
      ]
    },
    {
      "cell_type": "code",
      "source": [
        "import os\n",
        "\n",
        "def restart_runtime():\n",
        "  os.kill(os.getpid(), 9)\n",
        "\n",
        "restart_runtime()"
      ],
      "metadata": {
        "id": "HwCPldvIJsFc"
      },
      "execution_count": null,
      "outputs": []
    },
    {
      "cell_type": "code",
      "source": [
        "from google.colab import drive\n",
        "from google.colab import files\n",
        "from PIL import Image\n",
        "\n",
        "drive.mount('/content/gdrive/MyDrive/DNN_ML/face')\n",
        "data_directory_face = '/content/gdrive/MyDrive/DNN_ML/face'"
      ],
      "metadata": {
        "id": "y_-2GoopJ8Nm"
      },
      "execution_count": null,
      "outputs": []
    },
    {
      "cell_type": "code",
      "source": [
        "############  These values can be changed for the Model and tested ############\n",
        "# Keep the Image width, height a multiple of 4.\n",
        "#This will ensure after Conv2D with 5X5 filter, and MaxPool(2,2) TWICE,\n",
        "# the values height2, width2 are still integers\n",
        "ImageWidth=384\n",
        "ImageHeight=384\n",
        "\n",
        "#the most common choices for convolution filter kernel sizes appear to be square shape of sizes 3X3, 5X5\n",
        "#smaller sized kernel allows for more granular information. Here 5X5 is used.\n",
        "#Maxpool is needed when the image is larger. It keeps the item with the maximum value.\n",
        "\n",
        "convKernelSize1 =5\n",
        "convKernelSize2 =5\n",
        "maxpoolKernelSize = 2\n",
        "\n",
        "#conv1 Input Channel is default 3 for R, G, B channels directly from the colored Image\n",
        "convOutputChannel1 = 16\n",
        "#convInputChannel2 is the same as the convOutputChannel1\n",
        "convOutputChannel2 = 32\n",
        "linearOut1 = 256\n",
        "linearOut2 = 84\n",
        "\n",
        "dropOutValue = 0.2\n",
        "\n",
        "# for the first convolution and max pool\n",
        "height1=int((ImageHeight - convKernelSize1 + 1)/maxpoolKernelSize) \n",
        "width1=int((ImageWidth - convKernelSize1 + 1)/maxpoolKernelSize)\n",
        "\n",
        "# for the second convolution and max pool\n",
        "height2=int((height1 - convKernelSize2 + 1)/maxpoolKernelSize) \n",
        "width2=int((width1 - convKernelSize2 + 1)/maxpoolKernelSize)"
      ],
      "metadata": {
        "id": "XaS4lOeF5jyC"
      },
      "execution_count": 2,
      "outputs": []
    },
    {
      "cell_type": "code",
      "source": [
        "print(\" ImageWidth = \", ImageWidth)\n",
        "print(\" ImageHeight = \", ImageHeight)\n",
        "print(\" width1 = \", width1)\n",
        "print(\" height1 = \", height1)\n",
        "print(\" width2 = \", width2)\n",
        "print(\" height2 = \", height2)"
      ],
      "metadata": {
        "colab": {
          "base_uri": "https://localhost:8080/"
        },
        "id": "MEyaY45_KqJ5",
        "outputId": "7520a9bc-d475-4f2c-c1ca-c64744150f90"
      },
      "execution_count": 3,
      "outputs": [
        {
          "output_type": "stream",
          "name": "stdout",
          "text": [
            " ImageWidth =  384\n",
            " ImageHeight =  384\n",
            " width1 =  190\n",
            " height1 =  190\n",
            " width2 =  93\n",
            " height2 =  93\n"
          ]
        }
      ]
    },
    {
      "cell_type": "code",
      "source": [
        "# how many samples per batch to load\n",
        "batch_size = 16\n",
        "# percentage of training set to use as validation\n",
        "test_size = 0.3\n",
        "valid_size = 0.1\n",
        "\n",
        "# Preprocessing steps\n",
        "# Horizontal Flip, Random Rotation, convert image array into PyTorch and normalize\n",
        "train_transform = transforms.Compose([\n",
        "    transforms.RandomHorizontalFlip(),\n",
        "    transforms.RandomRotation(10),\n",
        "    transforms.Resize(size=(ImageWidth,ImageHeight)),\n",
        "    transforms.ToTensor(),\n",
        "    transforms.Normalize((0.5, 0.5, 0.5), (0.5, 0.5, 0.5)) # need to keep these transforms, at least do resize all images to same size and co\n",
        "    ])"
      ],
      "metadata": {
        "id": "ZZqXFbxaJ1Uw"
      },
      "execution_count": null,
      "outputs": []
    },
    {
      "cell_type": "code",
      "source": [
        "data = datasets.ImageFolder(data_directory_face,transform=train_transform) "
      ],
      "metadata": {
        "id": "KlmGMQtSKapf"
      },
      "execution_count": null,
      "outputs": []
    },
    {
      "cell_type": "markdown",
      "source": [
        "The data needs to be split in Train, Test and validation set before training.\n",
        " - Train set will be used to train the model.\n",
        " - Validation set will be used for validating the model after each epoch. \n",
        " - Test set will be used to evaluate the model once it is trained.\n"
      ],
      "metadata": {
        "id": "u0tMVYAjK6Zx"
      }
    },
    {
      "cell_type": "code",
      "source": [
        "num_data = len(data)\n",
        "print(\"num_data = \", num_data)\n",
        "\n",
        "indices_data = list(range(num_data))\n",
        "np.random.shuffle(indices_data)\n",
        "\n",
        "#For test and training\n",
        "\n",
        "split_tt = int(np.floor(test_size * num_data))\n",
        "\n",
        "# numpy.floor function operates element-wise on the input array, \n",
        "# returning a new array with the same shape as the input. \n",
        "# It rounds down each element of the input array to the nearest \n",
        "# integer that is less than or equal to that element\n",
        "\n",
        "train_idx, test_idx = indices_data[split_tt:], indices_data[:split_tt]\n",
        "\n",
        "print(\"\\n train_idx = \", train_idx)\n",
        "print(\"\\n test_idx = \", test_idx)\n",
        "\n",
        "#From training separate data For validation (for each epoch)\n",
        "num_train = len(train_idx)\n",
        "indices_train = list(range(num_train))\n",
        "np.random.shuffle(indices_train)\n",
        "split_tv = int(np.floor(valid_size * num_train))\n",
        "train_new_idx, valid_idx = indices_train[split_tv:],indices_train[:split_tv]\n",
        "\n",
        "print(\"\\n train_new_idx = \", train_new_idx)\n",
        "print(\"\\n valid_idx = \", valid_idx)\n",
        "\n",
        "# define samplers for obtaining training and validation batches\n",
        "train_sampler = SubsetRandomSampler(train_new_idx)\n",
        "valid_sampler = SubsetRandomSampler(valid_idx)\n",
        "test_sampler = SubsetRandomSampler(test_idx)"
      ],
      "metadata": {
        "id": "rfLbKObSK5mz"
      },
      "execution_count": null,
      "outputs": []
    },
    {
      "cell_type": "code",
      "source": [
        "# Loaders contains the data in tuple format (Image in form of tensor, label)\n",
        "# train_loader = torch.utils.data.DataLoader(data, batch_size=batch_size, sampler=train_sampler, num_workers=1, transform=train_transform)\n",
        "train_loader = torch.utils.data.DataLoader(data, batch_size=batch_size, sampler=train_sampler, num_workers=1)\n",
        "\n",
        "# only running the data augmentation on the training data, double check if works\n",
        "valid_loader = torch.utils.data.DataLoader(data, batch_size=batch_size, sampler=valid_sampler, num_workers=1)\n",
        "test_loader = torch.utils.data.DataLoader(data, sampler = test_sampler, batch_size=batch_size, num_workers=1)\n",
        "\n",
        "# variable representing classes of the images\n",
        "classes = [0,1] # labeling either 0 (negative) or 1 (positive)\n",
        "\n",
        "total_length = len(test_loader)*batch_size + len(valid_loader)*batch_size + len(train_loader)*batch_size\n",
        "print(\"total_length = \", total_length)"
      ],
      "metadata": {
        "id": "cT6iFP1lL8lC"
      },
      "execution_count": null,
      "outputs": []
    },
    {
      "cell_type": "code",
      "source": [
        "for batch in valid_loader:\n",
        "    print(\"batch[0].size() = \", batch[0].size())"
      ],
      "metadata": {
        "id": "MekDp6XJMBOB"
      },
      "execution_count": null,
      "outputs": []
    },
    {
      "cell_type": "code",
      "source": [
        "import matplotlib.pyplot as plt\n",
        "%matplotlib inline\n",
        "\n",
        "# helper function to un-normalize and display an image\n",
        "def imshow(img):\n",
        "    img = img / 2 + 0.5  # unnormalize\n",
        "    plt.imshow(np.transpose(img, (1, 2, 0)))  # convert from Tensor image\n",
        "    \n",
        "# obtain one batch of training images\n",
        "dataiter = iter(train_loader)\n",
        "images, labels = next(dataiter)\n",
        "images = images.numpy() # convert images to numpy for display\n",
        "\n",
        "# plot the images in the batch, along with the corresponding labels\n"
      ],
      "metadata": {
        "id": "DxekTfeGMNUt"
      },
      "execution_count": null,
      "outputs": []
    },
    {
      "cell_type": "code",
      "source": [
        "num_of_image_to_display = 16\n",
        "\n",
        "fig = plt.figure(figsize=(num_of_image_to_display, 4))\n",
        "\n",
        "for idx in np.arange(num_of_image_to_display):\n",
        "    ax = fig.add_subplot(2, int(num_of_image_to_display/2), idx+1, xticks=[], yticks=[])\n",
        "    imshow(images[idx])\n",
        "    ax.set_title(classes[labels[idx]])\n",
        "\n",
        "display(plt.show())\n",
        "plt.close()"
      ],
      "metadata": {
        "id": "Tgr9CgHQMWUO"
      },
      "execution_count": null,
      "outputs": []
    },
    {
      "cell_type": "code",
      "source": [
        "import torch\n",
        "import numpy as np\n",
        "from torchvision import datasets\n",
        "import torchvision.transforms as transforms\n",
        "from torch.utils.data.sampler import SubsetRandomSampler\n",
        "\n",
        "\n",
        "import torch.nn as nn\n",
        "import torch.optim as optim\n",
        "import torch.utils.data as data\n",
        "import torchvision.models as models\n",
        "from torch.autograd import Variable"
      ],
      "metadata": {
        "id": "3LVDMdMENnBG"
      },
      "execution_count": null,
      "outputs": []
    },
    {
      "cell_type": "markdown",
      "source": [
        "# What is pytorch?\n",
        "PyTorch is an open-source machine learning library primarily used for deep learning tasks. It is developed by Facebook's AI Research Lab and provides a Python interface for building and training neural networks. PyTorch is known for its dynamic computational graph, which allows users to define and modify computational graphs on-the-fly during runtime.\n",
        "\n",
        "Neural network building blocks: PyTorch provides a rich set of pre-built modules and classes for building neural networks, such as various types of layers (e.g., fully connected, convolutional, recurrent), activation functions, loss functions, and optimizers.\n",
        "\n",
        "GPU acceleration: PyTorch seamlessly integrates with CUDA, a parallel computing platform, to leverage the power of NVIDIA GPUs for faster training and inference."
      ],
      "metadata": {
        "id": "MVjPmpA5WuMq"
      }
    },
    {
      "cell_type": "code",
      "source": [
        "## Start training\n",
        "\n",
        "import torch.nn as nn\n",
        "import torch.nn.functional as F\n",
        "train_on_gpu = torch.cuda.is_available()\n",
        "print(\"train_on_gpu = \", train_on_gpu)\n",
        "\n",
        "class Net(nn.Module):\n",
        "    def __init__(self):\n",
        "        super(Net, self).__init__()\n",
        "        \n",
        "        # define the two convolutional operations\n",
        "        # conv1 Input Channel =3 for the R, G, B channels directly from the Image\n",
        "        self.conv1 = nn.Conv2d(3, convOutputChannel1, convKernelSize1)\n",
        "        self.conv2 = nn.Conv2d(convOutputChannel1, convOutputChannel2, convKernelSize2)\n",
        "\n",
        "        # define the max pool operation\n",
        "        self.pool = nn.MaxPool2d(maxpoolKernelSize, maxpoolKernelSize)        \n",
        "        \n",
        "        self.dropout = nn.Dropout(dropOutValue)\n",
        "         \n",
        "        # define the Linear (fully connected) operations \n",
        "        self.fc1 = nn.Linear(convOutputChannel2* height2 * width2, linearOut1)\n",
        "        self.fc2 = nn.Linear(linearOut1, linearOut2)\n",
        "        self.fc3 = nn.Linear(linearOut2, 2)\n",
        "        self.softmax = nn.LogSoftmax(dim=1)\n",
        "  \n",
        "    def forward(self, x):\n",
        "        # add sequence of convolutional, relu and max pooling layers\n",
        "        x = self.pool(F.relu(self.conv1(x)))\n",
        "        x = self.pool(F.relu(self.conv2(x)))\n",
        "        x = self.dropout(x)\n",
        "\n",
        "        # the linearization needs to start with = # of output channels * height2 * width2\n",
        "        x = x.view(-1, convOutputChannel2 * height2 * width2)\n",
        "        x = F.relu(self.fc1(x))\n",
        "        x = self.dropout(F.relu(self.fc2(x)))\n",
        "        x = self.softmax(self.fc3(x))\n",
        "        return x"
      ],
      "metadata": {
        "id": "8Bbp81quNewu"
      },
      "execution_count": null,
      "outputs": []
    },
    {
      "cell_type": "markdown",
      "source": [
        "# Training the Model\n",
        " Finally comes the training part. Here you need to decide two crucial things: Loss function and optimizer. \n",
        " There are various choices like SGD, Adam, etc.. for the optimizer.\n",
        " used Cross-Entropy loss, which is a popular choice in the case of classification problems.\n",
        " should also set a learning rate, which decides how fast your model learns."
      ],
      "metadata": {
        "id": "t4ohKSYQRxg9"
      }
    },
    {
      "cell_type": "code",
      "source": [
        "# create a complete CNN\n",
        "model = Net()\n",
        "print(\"++++++++++++ print the model ++++++++\")\n",
        "print(model)\n",
        "print(\"+++++++++++++++++++++++++++++++++++++\")\n",
        "\n",
        "# move tensors to GPU if CUDA is available\n",
        "if train_on_gpu:\n",
        "    model.cuda()"
      ],
      "metadata": {
        "id": "1hwQyRrqR5au"
      },
      "execution_count": null,
      "outputs": []
    },
    {
      "cell_type": "code",
      "source": [
        "import torch.optim as optim\n",
        "\n",
        "# specify loss function\n",
        "criterion = torch.nn.CrossEntropyLoss()\n",
        "\n",
        "learning_rate = 0.003\n",
        "\n",
        "# --------------- test with Stochastic gradient descent optimizer -------------------\n",
        "optimizer = torch.optim.SGD(model.parameters(), lr = learning_rate, momentum= 0.9)"
      ],
      "metadata": {
        "id": "MPgUXMJoTHK8"
      },
      "execution_count": null,
      "outputs": []
    },
    {
      "cell_type": "code",
      "source": [
        "# number of epochs to train the model\n",
        "n_epochs = 5 # you may increase this number to train a final model\n",
        "\n",
        "valid_loss_min = np.Inf # track change in validation loss"
      ],
      "metadata": {
        "id": "UhwtujTOTU9k"
      },
      "execution_count": null,
      "outputs": []
    },
    {
      "cell_type": "code",
      "source": [
        "def make_loss_graph(data_list_val, data_list_train):\n",
        "    plt.close()\n",
        "    plt.title(\"Training and Validation Loss per Epoch\")\n",
        "\n",
        "    val_label = \"Validation Loss \" \n",
        "    train_label = \"Training Loss \"\n",
        "    assert len(data_list_val) == len(data_list_train)\n",
        "    length = len(data_list_train) - 1\n",
        "\n",
        "    plt.plot(data_list_val, label=val_label)\n",
        "    plt.plot(data_list_train, label=train_label)\n",
        "    #plt.xlim((epoch_skip, length))\n",
        "\n",
        "    plt.xlabel('Epochs')\n",
        "    plt.legend()\n",
        "    plt.grid()\n",
        "    plt.axis([0, 10, 0, 10])\n",
        "\n",
        "    display(plt.show())\n",
        "    plt.close()"
      ],
      "metadata": {
        "id": "CCauM-AWTl_W"
      },
      "execution_count": null,
      "outputs": []
    },
    {
      "cell_type": "code",
      "source": [
        "list_val_loss_all_epoch =[] \n",
        "list_train_loss_all_epoch =[]\n",
        "\n",
        "for epoch in range(1, n_epochs+1):\n",
        "    print('####### EPOCH ', epoch)\n",
        "    # keep track of training and validation loss\n",
        "    train_loss = 0.0\n",
        "    valid_loss = 0.0\n",
        "    \n",
        "    train_items = 0.0\n",
        "    valid_items = 0.0\n",
        "\n",
        "    ###################\n",
        "    # train the model #\n",
        "    ###################\n",
        "    model.train()\n",
        "    print(' len(train_loader.dataset) = ', len(train_loader.dataset))\n",
        "    for data, target in train_loader:\n",
        "        # move tensors to GPU if CUDA is available\n",
        "        if train_on_gpu:\n",
        "            data, target = data.cuda(), target.cuda()\n",
        "        # clear the gradients of all optimized variables\n",
        "        optimizer.zero_grad()\n",
        "        # forward pass: compute predicted outputs by passing inputs to the model\n",
        "        output = model(data)\n",
        "        # calculate the batch loss\n",
        "        loss = criterion(output, target)\n",
        "        # backward pass: compute gradient of the loss with respect to model parameters\n",
        "        loss.backward()\n",
        "        # perform a single optimization step (parameter update)\n",
        "        optimizer.step()\n",
        "        # update training loss\n",
        "        print('   train loss item = ', loss.item()*data.size(0))\n",
        "        train_loss += loss.item()*data.size(0)\n",
        "        train_items +=1\n",
        "        \n",
        "    ######################    \n",
        "    # validate or evaluate the model #\n",
        "    # To evaluate the model, it should be changed from model.train() to model.eval()\n",
        "    ######################\n",
        "    model.eval()\n",
        "    print(' len(valid_loader.dataset) = ', len(valid_loader.dataset))\n",
        "    for data, target in valid_loader:\n",
        "        # move tensors to GPU if CUDA is available\n",
        "        if train_on_gpu:\n",
        "            data, target = data.cuda(), target.cuda()\n",
        "        # forward pass: compute predicted outputs by passing inputs to the model\n",
        "        output = model(data)\n",
        "        # calculate the batch loss\n",
        "        loss = criterion(output, target)\n",
        "        # update average validation loss \n",
        "        print('   valid loss item = ', loss.item()*data.size(0))\n",
        "        valid_loss += loss.item()*data.size(0)\n",
        "        valid_items +=1\n",
        "    \n",
        "    # calculate average losses\n",
        "    print('\\n train_loss = ', train_loss)\n",
        "    print(' valid_loss = ', valid_loss)\n",
        "    print('\\n train_items = ', train_items)\n",
        "    print(' valid_items = ', valid_items)\n",
        "    #train_loss = train_loss/len(train_loader.dataset) # incorrect: this was averaging over 500 (the total amount of images available)\n",
        "    #valid_loss = valid_loss/len(valid_loader.dataset)\n",
        "    train_loss = train_loss/train_items # this is averaging correctly\n",
        "    valid_loss = valid_loss/valid_items\n",
        "    print('\\n average train_loss = ', train_loss)\n",
        "    print(' average valid_loss = ', valid_loss)\n",
        "\n",
        "    list_val_loss_all_epoch.append(valid_loss)\n",
        "    list_train_loss_all_epoch.append(train_loss)\n",
        "\n",
        "    # print training/validation statistics \n",
        "    print('Epoch: {} \\t Average Training Loss: {:.6f} \\t Average Validation Loss: {:.6f}'.format(\n",
        "        epoch, train_loss, valid_loss))\n",
        "\n",
        "\n",
        "    # save model if validation loss has decreased\n",
        "    if valid_loss <= valid_loss_min:\n",
        "        print('Validation loss decreased ({:.6f} --> {:.6f}).  Saving model ...'.format(\n",
        "        valid_loss_min,\n",
        "        valid_loss))\n",
        "        torch.save(model.state_dict(), 'model_cifar.pt')\n",
        "        valid_loss_min = valid_loss\n",
        "\n",
        "make_loss_graph(list_val_loss_all_epoch, list_train_loss_all_epoch)"
      ],
      "metadata": {
        "id": "z6UJFlfBTseR"
      },
      "execution_count": null,
      "outputs": []
    },
    {
      "cell_type": "code",
      "source": [
        "#######################################################\n",
        "# Analysis of the Model\n",
        "# plotting loss and accuracy over epochs to see how it changed over training\n",
        "######################################################\n",
        "print(\"\\n ****************  START TEST ******************* \")\n",
        "# plot the accuracy\n",
        "# confusion matrix\n",
        "# dont train for 700 epochs - do for less ~20\n",
        "\n",
        "# track test loss\n",
        "test_loss = 0.0\n",
        "class_correct = list(0. for i in range(2))\n",
        "class_total = list(0. for i in range(2))\n",
        "\n",
        "model.eval()\n",
        "i=1\n",
        "# iterate over test data\n",
        "len(test_loader)\n",
        "for data, target in test_loader:\n",
        "    i=i+1\n",
        "    if len(target)!=batch_size:\n",
        "        continue\n",
        "        \n",
        "    # move tensors to GPU if CUDA is available\n",
        "    if train_on_gpu:\n",
        "        data, target = data.cuda(), target.cuda()\n",
        "    # forward pass: compute predicted outputs by passing inputs to the model\n",
        "    output = model(data)\n",
        "    # calculate the batch loss\n",
        "    loss = criterion(output, target)\n",
        "    # update test loss \n",
        "    test_loss += loss.item()*data.size(0)\n",
        "    # convert output probabilities to predicted class\n",
        "    _, pred = torch.max(output, 1)    \n",
        "    # compare predictions to true label\n",
        "    correct_tensor = pred.eq(target.data.view_as(pred))\n",
        "    correct = np.squeeze(correct_tensor.numpy()) if not train_on_gpu else np.squeeze(correct_tensor.cpu().numpy())\n",
        "    # calculate test accuracy for each object class\n",
        "#     print(target)\n",
        "    \n",
        "    for i in range(batch_size):       \n",
        "        label = target.data[i]\n",
        "        class_correct[label] += correct[i].item()\n",
        "        class_total[label] += 1\n",
        "\n",
        "# average test loss\n",
        "test_loss = test_loss/len(test_loader.dataset)\n",
        "print('Test Loss: {:.6f}\\n'.format(test_loss))\n",
        "\n",
        "for i in range(2):\n",
        "    if class_total[i] > 0:\n",
        "        print('Test Accuracy of %5s: %2d%% (%2d/%2d)' % (\n",
        "            classes[i], 100 * class_correct[i] / class_total[i],\n",
        "            np.sum(class_correct[i]), np.sum(class_total[i])))\n",
        "    else:\n",
        "        print('Test Accuracy of %5s: N/A (no training examples)' % (classes[i]))\n",
        "\n",
        "print('\\nTest Accuracy (Overall): %2d%% (%2d/%2d)' % (\n",
        "    100. * np.sum(class_correct) / np.sum(class_total),\n",
        "    np.sum(class_correct), np.sum(class_total)))"
      ],
      "metadata": {
        "id": "4zgOFcN4UXWF"
      },
      "execution_count": null,
      "outputs": []
    }
  ]
}
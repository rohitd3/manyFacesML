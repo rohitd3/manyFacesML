{
  "nbformat": 4,
  "nbformat_minor": 0,
  "metadata": {
    "colab": {
      "provenance": [],
      "gpuType": "T4"
    },
    "kernelspec": {
      "name": "python3",
      "display_name": "Python 3"
    },
    "language_info": {
      "name": "python"
    },
    "accelerator": "GPU",
    "gpuClass": "standard"
  },
  "cells": [
    {
      "cell_type": "code",
      "source": [
        "!pip install torch torchvision\n",
        "!pip install torchviz\n",
        "!pip install --upgrade torch torchvision"
      ],
      "metadata": {
        "colab": {
          "base_uri": "https://localhost:8080/"
        },
        "id": "pe_7DqAyJrCG",
        "outputId": "ddc3de74-91e3-49d0-f9a3-1b712c10facf"
      },
      "execution_count": null,
      "outputs": [
        {
          "output_type": "stream",
          "name": "stdout",
          "text": [
            "Looking in indexes: https://pypi.org/simple, https://us-python.pkg.dev/colab-wheels/public/simple/\n",
            "Requirement already satisfied: torch in /usr/local/lib/python3.10/dist-packages (2.0.1+cu118)\n",
            "Requirement already satisfied: torchvision in /usr/local/lib/python3.10/dist-packages (0.15.2+cu118)\n",
            "Requirement already satisfied: filelock in /usr/local/lib/python3.10/dist-packages (from torch) (3.12.0)\n",
            "Requirement already satisfied: typing-extensions in /usr/local/lib/python3.10/dist-packages (from torch) (4.5.0)\n",
            "Requirement already satisfied: sympy in /usr/local/lib/python3.10/dist-packages (from torch) (1.11.1)\n",
            "Requirement already satisfied: networkx in /usr/local/lib/python3.10/dist-packages (from torch) (3.1)\n",
            "Requirement already satisfied: jinja2 in /usr/local/lib/python3.10/dist-packages (from torch) (3.1.2)\n",
            "Requirement already satisfied: triton==2.0.0 in /usr/local/lib/python3.10/dist-packages (from torch) (2.0.0)\n",
            "Requirement already satisfied: cmake in /usr/local/lib/python3.10/dist-packages (from triton==2.0.0->torch) (3.25.2)\n",
            "Requirement already satisfied: lit in /usr/local/lib/python3.10/dist-packages (from triton==2.0.0->torch) (16.0.5)\n",
            "Requirement already satisfied: numpy in /usr/local/lib/python3.10/dist-packages (from torchvision) (1.22.4)\n",
            "Requirement already satisfied: requests in /usr/local/lib/python3.10/dist-packages (from torchvision) (2.27.1)\n",
            "Requirement already satisfied: pillow!=8.3.*,>=5.3.0 in /usr/local/lib/python3.10/dist-packages (from torchvision) (8.4.0)\n",
            "Requirement already satisfied: MarkupSafe>=2.0 in /usr/local/lib/python3.10/dist-packages (from jinja2->torch) (2.1.2)\n",
            "Requirement already satisfied: urllib3<1.27,>=1.21.1 in /usr/local/lib/python3.10/dist-packages (from requests->torchvision) (1.26.15)\n",
            "Requirement already satisfied: certifi>=2017.4.17 in /usr/local/lib/python3.10/dist-packages (from requests->torchvision) (2022.12.7)\n",
            "Requirement already satisfied: charset-normalizer~=2.0.0 in /usr/local/lib/python3.10/dist-packages (from requests->torchvision) (2.0.12)\n",
            "Requirement already satisfied: idna<4,>=2.5 in /usr/local/lib/python3.10/dist-packages (from requests->torchvision) (3.4)\n",
            "Requirement already satisfied: mpmath>=0.19 in /usr/local/lib/python3.10/dist-packages (from sympy->torch) (1.3.0)\n",
            "Looking in indexes: https://pypi.org/simple, https://us-python.pkg.dev/colab-wheels/public/simple/\n",
            "Requirement already satisfied: torchviz in /usr/local/lib/python3.10/dist-packages (0.0.2)\n",
            "Requirement already satisfied: torch in /usr/local/lib/python3.10/dist-packages (from torchviz) (2.0.1+cu118)\n",
            "Requirement already satisfied: graphviz in /usr/local/lib/python3.10/dist-packages (from torchviz) (0.20.1)\n",
            "Requirement already satisfied: filelock in /usr/local/lib/python3.10/dist-packages (from torch->torchviz) (3.12.0)\n",
            "Requirement already satisfied: typing-extensions in /usr/local/lib/python3.10/dist-packages (from torch->torchviz) (4.5.0)\n",
            "Requirement already satisfied: sympy in /usr/local/lib/python3.10/dist-packages (from torch->torchviz) (1.11.1)\n",
            "Requirement already satisfied: networkx in /usr/local/lib/python3.10/dist-packages (from torch->torchviz) (3.1)\n",
            "Requirement already satisfied: jinja2 in /usr/local/lib/python3.10/dist-packages (from torch->torchviz) (3.1.2)\n",
            "Requirement already satisfied: triton==2.0.0 in /usr/local/lib/python3.10/dist-packages (from torch->torchviz) (2.0.0)\n",
            "Requirement already satisfied: cmake in /usr/local/lib/python3.10/dist-packages (from triton==2.0.0->torch->torchviz) (3.25.2)\n",
            "Requirement already satisfied: lit in /usr/local/lib/python3.10/dist-packages (from triton==2.0.0->torch->torchviz) (16.0.5)\n",
            "Requirement already satisfied: MarkupSafe>=2.0 in /usr/local/lib/python3.10/dist-packages (from jinja2->torch->torchviz) (2.1.2)\n",
            "Requirement already satisfied: mpmath>=0.19 in /usr/local/lib/python3.10/dist-packages (from sympy->torch->torchviz) (1.3.0)\n",
            "Looking in indexes: https://pypi.org/simple, https://us-python.pkg.dev/colab-wheels/public/simple/\n",
            "Requirement already satisfied: torch in /usr/local/lib/python3.10/dist-packages (2.0.1+cu118)\n",
            "Requirement already satisfied: torchvision in /usr/local/lib/python3.10/dist-packages (0.15.2+cu118)\n",
            "Requirement already satisfied: filelock in /usr/local/lib/python3.10/dist-packages (from torch) (3.12.0)\n",
            "Requirement already satisfied: typing-extensions in /usr/local/lib/python3.10/dist-packages (from torch) (4.5.0)\n",
            "Requirement already satisfied: sympy in /usr/local/lib/python3.10/dist-packages (from torch) (1.11.1)\n",
            "Requirement already satisfied: networkx in /usr/local/lib/python3.10/dist-packages (from torch) (3.1)\n",
            "Requirement already satisfied: jinja2 in /usr/local/lib/python3.10/dist-packages (from torch) (3.1.2)\n",
            "Requirement already satisfied: triton==2.0.0 in /usr/local/lib/python3.10/dist-packages (from torch) (2.0.0)\n",
            "Requirement already satisfied: cmake in /usr/local/lib/python3.10/dist-packages (from triton==2.0.0->torch) (3.25.2)\n",
            "Requirement already satisfied: lit in /usr/local/lib/python3.10/dist-packages (from triton==2.0.0->torch) (16.0.5)\n",
            "Requirement already satisfied: numpy in /usr/local/lib/python3.10/dist-packages (from torchvision) (1.22.4)\n",
            "Requirement already satisfied: requests in /usr/local/lib/python3.10/dist-packages (from torchvision) (2.27.1)\n",
            "Requirement already satisfied: pillow!=8.3.*,>=5.3.0 in /usr/local/lib/python3.10/dist-packages (from torchvision) (8.4.0)\n",
            "Requirement already satisfied: MarkupSafe>=2.0 in /usr/local/lib/python3.10/dist-packages (from jinja2->torch) (2.1.2)\n",
            "Requirement already satisfied: urllib3<1.27,>=1.21.1 in /usr/local/lib/python3.10/dist-packages (from requests->torchvision) (1.26.15)\n",
            "Requirement already satisfied: certifi>=2017.4.17 in /usr/local/lib/python3.10/dist-packages (from requests->torchvision) (2022.12.7)\n",
            "Requirement already satisfied: charset-normalizer~=2.0.0 in /usr/local/lib/python3.10/dist-packages (from requests->torchvision) (2.0.12)\n",
            "Requirement already satisfied: idna<4,>=2.5 in /usr/local/lib/python3.10/dist-packages (from requests->torchvision) (3.4)\n",
            "Requirement already satisfied: mpmath>=0.19 in /usr/local/lib/python3.10/dist-packages (from sympy->torch) (1.3.0)\n"
          ]
        }
      ]
    },
    {
      "cell_type": "code",
      "source": [
        "import os\n",
        "\n",
        "def restart_runtime():\n",
        "  os.kill(os.getpid(), 9)\n",
        "\n",
        "restart_runtime()"
      ],
      "metadata": {
        "id": "HwCPldvIJsFc"
      },
      "execution_count": null,
      "outputs": []
    },
    {
      "cell_type": "code",
      "source": [
        "data_directory_face = '/content/gdrive/MyDrive/DNN_ML/face'"
      ],
      "metadata": {
        "id": "WSDSIYZ05Ejl"
      },
      "execution_count": null,
      "outputs": []
    },
    {
      "cell_type": "code",
      "source": [
        "from google.colab import drive\n",
        "from google.colab import files\n",
        "from PIL import Image\n",
        "\n",
        "drive.mount('/content/gdrive')\n"
      ],
      "metadata": {
        "colab": {
          "base_uri": "https://localhost:8080/"
        },
        "id": "y_-2GoopJ8Nm",
        "outputId": "0310b5f5-e260-499d-8318-91988afd8f8c"
      },
      "execution_count": null,
      "outputs": [
        {
          "output_type": "stream",
          "name": "stdout",
          "text": [
            "Mounted at /content/gdrive\n"
          ]
        }
      ]
    },
    {
      "cell_type": "code",
      "source": [
        "data_directory_face = '/content/gdrive/MyDrive/DNN_ML/face'"
      ],
      "metadata": {
        "id": "KmPgu7gb41f7"
      },
      "execution_count": null,
      "outputs": []
    },
    {
      "cell_type": "code",
      "source": [
        "############  These values can be changed for the Model and tested ############\n",
        "# Keep the Image width, height a multiple of 4.\n",
        "#This will ensure after Conv2D with 5X5 filter, and MaxPool(2,2) TWICE,\n",
        "# the values height2, width2 are still integers\n",
        "ImageWidth=384\n",
        "ImageHeight=384\n",
        "\n",
        "#the most common choices for convolution filter kernel sizes appear to be square shape of sizes 3X3, 5X5\n",
        "#smaller sized kernel allows for more granular information. Here 5X5 is used.\n",
        "#Maxpool is needed when the image is larger. It keeps the item with the maximum value.\n",
        "\n",
        "convKernelSize1 =5\n",
        "convKernelSize2 =5\n",
        "maxpoolKernelSize = 2\n",
        "\n",
        "#conv1 Input Channel is default 3 for R, G, B channels directly from the colored Image\n",
        "convOutputChannel1 = 16\n",
        "#convInputChannel2 is the same as the convOutputChannel1\n",
        "convOutputChannel2 = 32\n",
        "linearOut1 = 256\n",
        "linearOut2 = 84\n",
        "\n",
        "dropOutValue = 0.2\n",
        "\n",
        "# for the first convolution and max pool\n",
        "height1=int((ImageHeight - convKernelSize1 + 1)/maxpoolKernelSize) \n",
        "width1=int((ImageWidth - convKernelSize1 + 1)/maxpoolKernelSize)\n",
        "\n",
        "# for the second convolution and max pool\n",
        "height2=int((height1 - convKernelSize2 + 1)/maxpoolKernelSize) \n",
        "width2=int((width1 - convKernelSize2 + 1)/maxpoolKernelSize)\n",
        "\n",
        "print(\" ImageWidth = \", ImageWidth)\n",
        "print(\" ImageHeight = \", ImageHeight)\n",
        "print(\" width1 = \", width1)\n",
        "print(\" height1 = \", height1)\n",
        "print(\" width2 = \", width2)\n",
        "print(\" height2 = \", height2)"
      ],
      "metadata": {
        "colab": {
          "base_uri": "https://localhost:8080/"
        },
        "id": "MEyaY45_KqJ5",
        "outputId": "280a900b-1b0d-4690-a660-de55e3d5afdd"
      },
      "execution_count": null,
      "outputs": [
        {
          "output_type": "stream",
          "name": "stdout",
          "text": [
            " ImageWidth =  384\n",
            " ImageHeight =  384\n",
            " width1 =  190\n",
            " height1 =  190\n",
            " width2 =  93\n",
            " height2 =  93\n"
          ]
        }
      ]
    },
    {
      "cell_type": "code",
      "source": [
        "# how many samples per batch to load\n",
        "batch_size = 16\n",
        "# percentage of training set to use as validation\n",
        "test_size = 0.3\n",
        "valid_size = 0.1\n",
        "\n",
        "# Preprocessing steps\n",
        "# Horizontal Flip, Random Rotation, convert image array into PyTorch and normalize\n",
        "train_transform = transforms.Compose([\n",
        "    transforms.RandomHorizontalFlip(),\n",
        "    transforms.RandomRotation(10),\n",
        "    transforms.Resize(size=(ImageWidth,ImageHeight)),\n",
        "    transforms.ToTensor(),\n",
        "    transforms.Normalize((0.5, 0.5, 0.5), (0.5, 0.5, 0.5)) # need to keep these transforms, at least do resize all images to same size and co\n",
        "    ])"
      ],
      "metadata": {
        "id": "ZZqXFbxaJ1Uw"
      },
      "execution_count": null,
      "outputs": []
    },
    {
      "cell_type": "code",
      "source": [
        "data = datasets.ImageFolder(data_directory_face,transform=train_transform) "
      ],
      "metadata": {
        "id": "KlmGMQtSKapf"
      },
      "execution_count": null,
      "outputs": []
    },
    {
      "cell_type": "markdown",
      "source": [
        "The data needs to be split in Train, Test and validation set before training.\n",
        " - Train set will be used to train the model.\n",
        " - Validation set will be used for validating the model after each epoch. \n",
        " - Test set will be used to evaluate the model once it is trained.\n"
      ],
      "metadata": {
        "id": "u0tMVYAjK6Zx"
      }
    },
    {
      "cell_type": "code",
      "source": [
        "num_data = len(data)\n",
        "print(\"num_data = \", num_data)\n",
        "\n",
        "indices_data = list(range(num_data))\n",
        "np.random.shuffle(indices_data)\n",
        "\n",
        "#For test and training\n",
        "\n",
        "split_tt = int(np.floor(test_size * num_data))\n",
        "\n",
        "# numpy.floor function operates element-wise on the input array, \n",
        "# returning a new array with the same shape as the input. \n",
        "# It rounds down each element of the input array to the nearest \n",
        "# integer that is less than or equal to that element\n",
        "\n",
        "train_idx, test_idx = indices_data[split_tt:], indices_data[:split_tt]\n",
        "\n",
        "print(\"\\n train_idx = \", train_idx)\n",
        "print(\"\\n test_idx = \", test_idx)\n",
        "\n",
        "#From training separate data For validation (for each epoch)\n",
        "num_train = len(train_idx)\n",
        "indices_train = list(range(num_train))\n",
        "np.random.shuffle(indices_train)\n",
        "split_tv = int(np.floor(valid_size * num_train))\n",
        "train_new_idx, valid_idx = indices_train[split_tv:],indices_train[:split_tv]\n",
        "\n",
        "print(\"\\n train_new_idx = \", train_new_idx)\n",
        "print(\"\\n valid_idx = \", valid_idx)\n",
        "\n",
        "# define samplers for obtaining training and validation batches\n",
        "train_sampler = SubsetRandomSampler(train_new_idx)\n",
        "valid_sampler = SubsetRandomSampler(valid_idx)\n",
        "test_sampler = SubsetRandomSampler(test_idx)"
      ],
      "metadata": {
        "colab": {
          "base_uri": "https://localhost:8080/"
        },
        "id": "rfLbKObSK5mz",
        "outputId": "3ed16fb8-de81-4217-a935-4dd7621bd2eb"
      },
      "execution_count": null,
      "outputs": [
        {
          "output_type": "stream",
          "name": "stdout",
          "text": [
            "num_data =  400\n",
            "\n",
            " train_idx =  [327, 183, 171, 96, 7, 167, 379, 105, 236, 40, 339, 180, 189, 255, 120, 58, 302, 344, 276, 141, 215, 229, 103, 203, 313, 60, 224, 69, 73, 28, 375, 15, 247, 20, 230, 155, 25, 187, 243, 226, 118, 249, 383, 350, 377, 1, 13, 57, 237, 239, 235, 51, 131, 115, 86, 186, 316, 382, 309, 394, 271, 354, 304, 16, 365, 305, 52, 98, 100, 55, 84, 80, 88, 185, 280, 284, 90, 143, 328, 217, 110, 288, 374, 258, 0, 49, 47, 282, 210, 347, 97, 14, 146, 290, 125, 222, 368, 85, 194, 228, 72, 107, 67, 363, 182, 334, 42, 124, 298, 152, 209, 166, 323, 318, 232, 381, 59, 306, 397, 346, 380, 360, 77, 196, 176, 244, 211, 10, 181, 338, 256, 178, 387, 307, 193, 45, 351, 179, 63, 225, 35, 353, 61, 262, 385, 201, 398, 109, 311, 301, 285, 89, 3, 144, 293, 156, 75, 348, 219, 333, 366, 79, 299, 24, 34, 376, 221, 263, 372, 364, 159, 190, 204, 355, 340, 371, 62, 160, 33, 253, 4, 22, 9, 273, 30, 384, 8, 295, 134, 267, 18, 154, 342, 317, 321, 308, 242, 223, 112, 252, 238, 245, 289, 76, 199, 369, 195, 151, 248, 319, 343, 165, 121, 128, 279, 113, 297, 157, 87, 322, 92, 102, 216, 74, 150, 234, 325, 268, 241, 330, 148, 281, 170, 362, 32, 218, 114, 233, 214, 393, 188, 104, 349, 153, 251, 147, 132, 95, 2, 99, 231, 312, 310, 116, 46, 117, 300, 44, 39, 359, 212, 395, 27, 50, 261, 101, 174, 68, 391, 106, 388, 130, 303, 296, 213, 345, 259, 177, 149, 172]\n",
            "\n",
            " test_idx =  [335, 269, 37, 66, 133, 257, 314, 396, 21, 275, 336, 145, 370, 36, 41, 390, 220, 392, 119, 337, 17, 198, 83, 70, 137, 162, 329, 315, 205, 265, 331, 197, 332, 65, 191, 82, 361, 184, 254, 286, 163, 94, 111, 287, 260, 93, 138, 358, 71, 278, 126, 291, 208, 78, 139, 373, 43, 6, 135, 142, 192, 81, 272, 352, 250, 227, 140, 108, 324, 168, 11, 202, 386, 266, 91, 292, 207, 246, 53, 38, 56, 294, 161, 127, 341, 357, 54, 122, 173, 29, 129, 283, 164, 200, 356, 64, 31, 264, 19, 277, 206, 12, 378, 399, 240, 26, 326, 5, 175, 169, 123, 158, 367, 389, 23, 274, 136, 270, 48, 320]\n",
            "\n",
            " train_new_idx =  [27, 184, 45, 155, 253, 224, 60, 38, 210, 51, 101, 114, 228, 197, 66, 88, 132, 134, 245, 70, 26, 9, 256, 6, 83, 96, 15, 99, 78, 8, 29, 130, 79, 162, 274, 202, 154, 222, 231, 46, 193, 242, 180, 116, 263, 115, 212, 135, 213, 239, 269, 144, 247, 61, 216, 181, 138, 271, 150, 173, 221, 90, 227, 4, 262, 182, 112, 105, 74, 226, 204, 118, 62, 166, 240, 149, 31, 24, 254, 163, 236, 175, 148, 207, 174, 246, 95, 80, 142, 13, 36, 123, 252, 54, 117, 196, 108, 53, 100, 244, 50, 237, 48, 260, 35, 220, 267, 129, 32, 257, 232, 157, 97, 225, 223, 49, 84, 86, 199, 23, 5, 187, 2, 219, 268, 111, 110, 87, 183, 198, 72, 230, 47, 258, 122, 119, 161, 102, 272, 205, 11, 214, 133, 215, 77, 151, 264, 124, 200, 64, 278, 158, 137, 276, 25, 113, 176, 41, 172, 92, 22, 145, 12, 277, 188, 0, 44, 42, 164, 208, 34, 141, 251, 68, 194, 1, 211, 85, 143, 243, 209, 203, 63, 81, 106, 93, 171, 67, 233, 186, 10, 71, 160, 91, 241, 190, 21, 131, 279, 28, 7, 56, 43, 18, 192, 82, 250, 167, 19, 169, 147, 261, 191, 136, 103, 65, 58, 178, 98, 206, 37, 140, 270, 75, 275, 179, 195, 20, 234, 259, 89, 16, 107, 255, 126, 73, 265, 76, 17, 127, 189, 165, 156, 248, 52, 153, 3, 94, 249, 125, 69, 229]\n",
            "\n",
            " valid_idx =  [218, 30, 235, 33, 217, 120, 177, 159, 139, 185, 266, 55, 40, 128, 39, 170, 238, 201, 14, 146, 59, 109, 273, 121, 168, 57, 104, 152]\n"
          ]
        }
      ]
    },
    {
      "cell_type": "code",
      "source": [
        "# Loaders contains the data in tuple format (Image in form of tensor, label)\n",
        "# train_loader = torch.utils.data.DataLoader(data, batch_size=batch_size, sampler=train_sampler, num_workers=1, transform=train_transform)\n",
        "train_loader = torch.utils.data.DataLoader(data, batch_size=batch_size, sampler=train_sampler, num_workers=1)\n",
        "\n",
        "# only running the data augmentation on the training data, double check if works\n",
        "valid_loader = torch.utils.data.DataLoader(data, batch_size=batch_size, sampler=valid_sampler, num_workers=1)\n",
        "test_loader = torch.utils.data.DataLoader(data, sampler = test_sampler, batch_size=batch_size, num_workers=1)\n",
        "\n",
        "# variable representing classes of the images\n",
        "classes = [0,1] # labeling either 0 (negative) or 1 (positive)\n",
        "\n",
        "total_length = len(test_loader)*batch_size + len(valid_loader)*batch_size + len(train_loader)*batch_size\n",
        "print(\"total_length = \", total_length)"
      ],
      "metadata": {
        "colab": {
          "base_uri": "https://localhost:8080/"
        },
        "id": "cT6iFP1lL8lC",
        "outputId": "021c9c10-24c2-46a9-ccbf-ce2db1099b9d"
      },
      "execution_count": null,
      "outputs": [
        {
          "output_type": "stream",
          "name": "stdout",
          "text": [
            "total_length =  416\n"
          ]
        }
      ]
    },
    {
      "cell_type": "code",
      "source": [
        "for batch in valid_loader:\n",
        "    print(\"batch[0].size() = \", batch[0].size())"
      ],
      "metadata": {
        "colab": {
          "base_uri": "https://localhost:8080/"
        },
        "id": "MekDp6XJMBOB",
        "outputId": "e8350057-eefc-4ec1-f9d8-a788a0c1dfcf"
      },
      "execution_count": null,
      "outputs": [
        {
          "output_type": "stream",
          "name": "stdout",
          "text": [
            "batch[0].size() =  torch.Size([16, 3, 384, 384])\n",
            "batch[0].size() =  torch.Size([12, 3, 384, 384])\n"
          ]
        }
      ]
    },
    {
      "cell_type": "code",
      "source": [
        "import matplotlib.pyplot as plt\n",
        "%matplotlib inline\n",
        "\n",
        "# helper function to un-normalize and display an image\n",
        "def imshow(img):\n",
        "    img = img / 2 + 0.5  # unnormalize\n",
        "    plt.imshow(np.transpose(img, (1, 2, 0)))  # convert from Tensor image\n",
        "    \n",
        "# obtain one batch of training images\n",
        "dataiter = iter(train_loader)\n",
        "images, labels = next(dataiter)\n",
        "images = images.numpy() # convert images to numpy for display\n",
        "\n",
        "# plot the images in the batch, along with the corresponding labels\n"
      ],
      "metadata": {
        "colab": {
          "base_uri": "https://localhost:8080/",
          "height": 34
        },
        "id": "DxekTfeGMNUt",
        "outputId": "33a422ab-47a5-4093-dc7f-65acf4b273de"
      },
      "execution_count": null,
      "outputs": [
        {
          "output_type": "display_data",
          "data": {
            "text/plain": [
              "<Figure size 1000x400 with 0 Axes>"
            ]
          },
          "metadata": {}
        }
      ]
    },
    {
      "cell_type": "code",
      "source": [
        "num_of_image_to_display = 16\n",
        "\n",
        "fig = plt.figure(figsize=(num_of_image_to_display, 4))\n",
        "\n",
        "for idx in np.arange(num_of_image_to_display):\n",
        "    ax = fig.add_subplot(2, int(num_of_image_to_display/2), idx+1, xticks=[], yticks=[])\n",
        "    imshow(images[idx])\n",
        "    ax.set_title(classes[labels[idx]])\n",
        "\n",
        "display(plt.show())\n",
        "plt.close()"
      ],
      "metadata": {
        "colab": {
          "base_uri": "https://localhost:8080/",
          "height": 235
        },
        "id": "Tgr9CgHQMWUO",
        "outputId": "07fc08d6-ac36-499f-d9bc-ab2c2c8d7d71"
      },
      "execution_count": null,
      "outputs": [
        {
          "output_type": "error",
          "ename": "NameError",
          "evalue": "ignored",
          "traceback": [
            "\u001b[0;31m---------------------------------------------------------------------------\u001b[0m",
            "\u001b[0;31mNameError\u001b[0m                                 Traceback (most recent call last)",
            "\u001b[0;32m<ipython-input-1-61107625c75e>\u001b[0m in \u001b[0;36m<cell line: 3>\u001b[0;34m()\u001b[0m\n\u001b[1;32m      1\u001b[0m \u001b[0mnum_of_image_to_display\u001b[0m \u001b[0;34m=\u001b[0m \u001b[0;36m16\u001b[0m\u001b[0;34m\u001b[0m\u001b[0;34m\u001b[0m\u001b[0m\n\u001b[1;32m      2\u001b[0m \u001b[0;34m\u001b[0m\u001b[0m\n\u001b[0;32m----> 3\u001b[0;31m \u001b[0mfig\u001b[0m \u001b[0;34m=\u001b[0m \u001b[0mplt\u001b[0m\u001b[0;34m.\u001b[0m\u001b[0mfigure\u001b[0m\u001b[0;34m(\u001b[0m\u001b[0mfigsize\u001b[0m\u001b[0;34m=\u001b[0m\u001b[0;34m(\u001b[0m\u001b[0mnum_of_image_to_display\u001b[0m\u001b[0;34m,\u001b[0m \u001b[0;36m4\u001b[0m\u001b[0;34m)\u001b[0m\u001b[0;34m)\u001b[0m\u001b[0;34m\u001b[0m\u001b[0;34m\u001b[0m\u001b[0m\n\u001b[0m\u001b[1;32m      4\u001b[0m \u001b[0;34m\u001b[0m\u001b[0m\n\u001b[1;32m      5\u001b[0m \u001b[0;32mfor\u001b[0m \u001b[0midx\u001b[0m \u001b[0;32min\u001b[0m \u001b[0mnp\u001b[0m\u001b[0;34m.\u001b[0m\u001b[0marange\u001b[0m\u001b[0;34m(\u001b[0m\u001b[0mnum_of_image_to_display\u001b[0m\u001b[0;34m)\u001b[0m\u001b[0;34m:\u001b[0m\u001b[0;34m\u001b[0m\u001b[0;34m\u001b[0m\u001b[0m\n",
            "\u001b[0;31mNameError\u001b[0m: name 'plt' is not defined"
          ]
        }
      ]
    },
    {
      "cell_type": "code",
      "source": [
        "import torch\n",
        "import numpy as np\n",
        "from torchvision import datasets\n",
        "import torchvision.transforms as transforms\n",
        "from torch.utils.data.sampler import SubsetRandomSampler\n",
        "\n",
        "\n",
        "import torch.nn as nn\n",
        "import torch.optim as optim\n",
        "import torch.utils.data as data\n",
        "import torchvision.models as models\n",
        "from torch.autograd import Variable"
      ],
      "metadata": {
        "id": "3LVDMdMENnBG"
      },
      "execution_count": null,
      "outputs": []
    },
    {
      "cell_type": "markdown",
      "source": [
        "# What is pytorch?\n",
        "PyTorch is an open-source machine learning library primarily used for deep learning tasks. It is developed by Facebook's AI Research Lab and provides a Python interface for building and training neural networks. PyTorch is known for its dynamic computational graph, which allows users to define and modify computational graphs on-the-fly during runtime.\n",
        "\n",
        "Neural network building blocks: PyTorch provides a rich set of pre-built modules and classes for building neural networks, such as various types of layers (e.g., fully connected, convolutional, recurrent), activation functions, loss functions, and optimizers.\n",
        "\n",
        "GPU acceleration: PyTorch seamlessly integrates with CUDA, a parallel computing platform, to leverage the power of NVIDIA GPUs for faster training and inference."
      ],
      "metadata": {
        "id": "MVjPmpA5WuMq"
      }
    },
    {
      "cell_type": "code",
      "source": [
        "## Start training\n",
        "\n",
        "import torch.nn as nn\n",
        "import torch.nn.functional as F\n",
        "train_on_gpu = torch.cuda.is_available()\n",
        "print(\"train_on_gpu = \", train_on_gpu)\n",
        "\n",
        "class Net(nn.Module):\n",
        "    def __init__(self):\n",
        "        super(Net, self).__init__()\n",
        "        \n",
        "        # define the two convolutional operations\n",
        "        # conv1 Input Channel =3 for the R, G, B channels directly from the Image\n",
        "        self.conv1 = nn.Conv2d(3, convOutputChannel1, convKernelSize1)\n",
        "        self.conv2 = nn.Conv2d(convOutputChannel1, convOutputChannel2, convKernelSize2)\n",
        "\n",
        "        # define the max pool operation\n",
        "        self.pool = nn.MaxPool2d(maxpoolKernelSize, maxpoolKernelSize)        \n",
        "        \n",
        "        self.dropout = nn.Dropout(dropOutValue)\n",
        "         \n",
        "        # define the Linear (fully connected) operations \n",
        "        self.fc1 = nn.Linear(convOutputChannel2* height2 * width2, linearOut1)\n",
        "        self.fc2 = nn.Linear(linearOut1, linearOut2)\n",
        "        self.fc3 = nn.Linear(linearOut2, 2)\n",
        "        self.softmax = nn.LogSoftmax(dim=1)\n",
        "  \n",
        "    def forward(self, x):\n",
        "        # add sequence of convolutional, relu and max pooling layers\n",
        "        x = self.pool(F.relu(self.conv1(x)))\n",
        "        x = self.pool(F.relu(self.conv2(x)))\n",
        "        x = self.dropout(x)\n",
        "\n",
        "        # the linearization needs to start with = # of output channels * height2 * width2\n",
        "        x = x.view(-1, convOutputChannel2 * height2 * width2)\n",
        "        x = F.relu(self.fc1(x))\n",
        "        x = self.dropout(F.relu(self.fc2(x)))\n",
        "        x = self.softmax(self.fc3(x))\n",
        "        return x"
      ],
      "metadata": {
        "colab": {
          "base_uri": "https://localhost:8080/"
        },
        "id": "8Bbp81quNewu",
        "outputId": "2f027d83-0c03-4188-9576-26e47f34f91b"
      },
      "execution_count": null,
      "outputs": [
        {
          "output_type": "stream",
          "name": "stdout",
          "text": [
            "train_on_gpu =  True\n"
          ]
        }
      ]
    },
    {
      "cell_type": "markdown",
      "source": [
        "# Training the Model\n",
        " Finally comes the training part. Here you need to decide two crucial things: Loss function and optimizer. \n",
        " There are various choices like SGD, Adam, etc.. for the optimizer.\n",
        " used Cross-Entropy loss, which is a popular choice in the case of classification problems.\n",
        " should also set a learning rate, which decides how fast your model learns."
      ],
      "metadata": {
        "id": "t4ohKSYQRxg9"
      }
    },
    {
      "cell_type": "code",
      "source": [
        "# create a complete CNN\n",
        "model = Net()\n",
        "print(\"++++++++++++ print the model ++++++++\")\n",
        "print(model)\n",
        "print(\"+++++++++++++++++++++++++++++++++++++\")\n",
        "\n",
        "# move tensors to GPU if CUDA is available\n",
        "if train_on_gpu:\n",
        "    model.cuda()"
      ],
      "metadata": {
        "colab": {
          "base_uri": "https://localhost:8080/"
        },
        "id": "1hwQyRrqR5au",
        "outputId": "ad37d643-73c4-4127-f32b-aa864cc801d3"
      },
      "execution_count": null,
      "outputs": [
        {
          "output_type": "stream",
          "name": "stdout",
          "text": [
            "++++++++++++ print the model ++++++++\n",
            "Net(\n",
            "  (conv1): Conv2d(3, 16, kernel_size=(5, 5), stride=(1, 1))\n",
            "  (conv2): Conv2d(16, 32, kernel_size=(5, 5), stride=(1, 1))\n",
            "  (pool): MaxPool2d(kernel_size=2, stride=2, padding=0, dilation=1, ceil_mode=False)\n",
            "  (dropout): Dropout(p=0.2, inplace=False)\n",
            "  (fc1): Linear(in_features=276768, out_features=256, bias=True)\n",
            "  (fc2): Linear(in_features=256, out_features=84, bias=True)\n",
            "  (fc3): Linear(in_features=84, out_features=2, bias=True)\n",
            "  (softmax): LogSoftmax(dim=1)\n",
            ")\n",
            "+++++++++++++++++++++++++++++++++++++\n"
          ]
        }
      ]
    },
    {
      "cell_type": "code",
      "source": [
        "import torch.optim as optim\n",
        "\n",
        "# specify loss function\n",
        "criterion = torch.nn.CrossEntropyLoss()\n",
        "\n",
        "learning_rate = 0.003\n",
        "\n",
        "# --------------- test with Stochastic gradient descent optimizer -------------------\n",
        "optimizer = torch.optim.SGD(model.parameters(), lr = learning_rate, momentum= 0.9)"
      ],
      "metadata": {
        "id": "MPgUXMJoTHK8"
      },
      "execution_count": null,
      "outputs": []
    },
    {
      "cell_type": "code",
      "source": [
        "# number of epochs to train the model\n",
        "n_epochs = 5 # you may increase this number to train a final model\n",
        "\n",
        "valid_loss_min = np.Inf # track change in validation loss"
      ],
      "metadata": {
        "id": "UhwtujTOTU9k"
      },
      "execution_count": null,
      "outputs": []
    },
    {
      "cell_type": "markdown",
      "source": [
        "make_loss_graph function takes in data_list_val and data_list_train as input, which are lists of loss values for validation and training data. It plots these values on a graph and displays it."
      ],
      "metadata": {
        "id": "lk4TDARZ8y9y"
      }
    },
    {
      "cell_type": "code",
      "source": [
        "def make_loss_graph(data_list_val, data_list_train):\n",
        "    plt.close()\n",
        "    plt.title(\"Training and Validation Loss per Epoch\")\n",
        "\n",
        "    val_label = \"Validation Loss \" \n",
        "    train_label = \"Training Loss \"\n",
        "    assert len(data_list_val) == len(data_list_train) ##makes sure the lengths of each are the same, will give error if not\n",
        "    length = len(data_list_train) - 1\n",
        "\n",
        "    plt.plot(data_list_val, label=val_label) ##validation data\n",
        "    plt.plot(data_list_train, label=train_label) ##training data\n",
        "    #plt.xlim((epoch_skip, length))\n",
        "\n",
        "    plt.xlabel('Epochs')\n",
        "    plt.legend()\n",
        "    plt.grid()\n",
        "    plt.axis([0, 10, 0, 10])\n",
        "\n",
        "    display(plt.show()) ##displays plot\n",
        "    plt.close()"
      ],
      "metadata": {
        "id": "CCauM-AWTl_W"
      },
      "execution_count": null,
      "outputs": []
    },
    {
      "cell_type": "markdown",
      "source": [
        "# Underfitting and overfitting\n",
        "\n",
        "Reasons for Underfitting:\n",
        "\n",
        "    High bias and low variance \n",
        "    The size of the training dataset used is not enough.\n",
        "    The model is too simple.\n",
        "    Training data is not cleaned and also contains noise in it.\n",
        "\n",
        "Techniques to reduce underfitting: \n",
        "\n",
        "    Increase model complexity\n",
        "    Increase the number of features, performing feature engineering\n",
        "    Remove noise from the data.\n",
        "    Increase the number of epochs or increase the duration of training to get better results.\n",
        "\n",
        "https://www.geeksforgeeks.org/underfitting-and-overfitting-in-machine-learning/#\n"
      ],
      "metadata": {
        "id": "YrYGJFVy8HpT"
      }
    },
    {
      "cell_type": "code",
      "source": [
        "list_val_loss_all_epoch =[] \n",
        "list_train_loss_all_epoch =[]\n",
        "\n",
        "for epoch in range(1, n_epochs+1):\n",
        "    print('####### EPOCH ', epoch)\n",
        "    # keep track of training and validation loss\n",
        "    train_loss = 0.0\n",
        "    valid_loss = 0.0\n",
        "    \n",
        "    train_items = 0.0\n",
        "    valid_items = 0.0\n",
        "\n",
        "    ###################\n",
        "    # train the model #\n",
        "    ###################\n",
        "    model.train()\n",
        "    print(' len(train_loader.dataset) = ', len(train_loader.dataset))\n",
        "    for data, target in train_loader:\n",
        "        # move tensors to GPU if CUDA is available\n",
        "        if train_on_gpu:\n",
        "            data, target = data.cuda(), target.cuda()\n",
        "        # clear the gradients of all optimized variables\n",
        "        optimizer.zero_grad()\n",
        "        # forward pass: compute predicted outputs by passing inputs to the model\n",
        "        output = model(data)\n",
        "        # calculate the batch loss\n",
        "        loss = criterion(output, target)\n",
        "        # backward pass: compute gradient of the loss with respect to model parameters\n",
        "        loss.backward()\n",
        "        # perform a single optimization step (parameter update)\n",
        "        optimizer.step()\n",
        "        # update training loss\n",
        "        print('   train loss item = ', loss.item()*data.size(0))\n",
        "        train_loss += loss.item()*data.size(0)\n",
        "        train_items +=1\n",
        "        \n",
        "    ######################    \n",
        "    # validate or evaluate the model #\n",
        "    # To evaluate the model, it should be changed from model.train() to model.eval()\n",
        "    ######################\n",
        "    model.eval()\n",
        "    print(' len(valid_loader.dataset) = ', len(valid_loader.dataset))\n",
        "    for data, target in valid_loader:\n",
        "        # move tensors to GPU if CUDA is available\n",
        "        if train_on_gpu:\n",
        "            data, target = data.cuda(), target.cuda()\n",
        "        # forward pass: compute predicted outputs by passing inputs to the model\n",
        "        output = model(data)\n",
        "        # calculate the batch loss\n",
        "        loss = criterion(output, target)\n",
        "        # update average validation loss \n",
        "        print('   valid loss item = ', loss.item()*data.size(0))\n",
        "        valid_loss += loss.item()*data.size(0)\n",
        "        valid_items +=1\n",
        "    \n",
        "    # calculate average losses\n",
        "    print('\\n train_loss = ', train_loss)\n",
        "    print(' valid_loss = ', valid_loss)\n",
        "    print('\\n train_items = ', train_items)\n",
        "    print(' valid_items = ', valid_items)\n",
        "    #train_loss = train_loss/len(train_loader.dataset) # incorrect: this was averaging over 500 (the total amount of images available)\n",
        "    #valid_loss = valid_loss/len(valid_loader.dataset)\n",
        "    train_loss = train_loss/train_items # this is averaging correctly\n",
        "    valid_loss = valid_loss/valid_items\n",
        "    print('\\n average train_loss = ', train_loss)\n",
        "    print(' average valid_loss = ', valid_loss)\n",
        "\n",
        "    list_val_loss_all_epoch.append(valid_loss)\n",
        "    list_train_loss_all_epoch.append(train_loss)\n",
        "\n",
        "    # print training/validation statistics \n",
        "    print('Epoch: {} \\t Average Training Loss: {:.6f} \\t Average Validation Loss: {:.6f}'.format(\n",
        "        epoch, train_loss, valid_loss))\n",
        "\n",
        "\n",
        "    # save model if validation loss has decreased\n",
        "    if valid_loss <= valid_loss_min:\n",
        "        print('Validation loss decreased ({:.6f} --> {:.6f}).  Saving model ...'.format(\n",
        "        valid_loss_min,\n",
        "        valid_loss))\n",
        "        torch.save(model.state_dict(), 'model_cifar.pt')\n",
        "        valid_loss_min = valid_loss\n",
        "\n",
        "make_loss_graph(list_val_loss_all_epoch, list_train_loss_all_epoch)"
      ],
      "metadata": {
        "colab": {
          "base_uri": "https://localhost:8080/",
          "height": 1000
        },
        "id": "z6UJFlfBTseR",
        "outputId": "f984fc82-8edf-49f7-a02c-c2fcd9774368"
      },
      "execution_count": null,
      "outputs": [
        {
          "output_type": "stream",
          "name": "stdout",
          "text": [
            "####### EPOCH  1\n",
            " len(train_loader.dataset) =  400\n",
            "   train loss item =  0.024645444005727768\n",
            "   train loss item =  0.32031652331352234\n",
            "   train loss item =  0.05283474177122116\n",
            "   train loss item =  0.9114115238189697\n",
            "   train loss item =  0.04939626529812813\n",
            "   train loss item =  0.03176403045654297\n",
            "   train loss item =  0.02037661150097847\n",
            "   train loss item =  0.11796353757381439\n",
            "   train loss item =  0.4087546467781067\n",
            "   train loss item =  0.12971322238445282\n",
            "   train loss item =  0.2309323251247406\n",
            "   train loss item =  0.17112958431243896\n",
            "   train loss item =  0.00805441290140152\n",
            "   train loss item =  0.7278347015380859\n",
            "   train loss item =  0.03808647766709328\n",
            "   train loss item =  0.001081527181668207\n",
            " len(valid_loader.dataset) =  400\n",
            "   valid loss item =  0.3364920914173126\n",
            "   valid loss item =  0.7835705280303955\n",
            "\n",
            " train_loss =  3.244295575626893\n",
            " valid_loss =  1.1200626194477081\n",
            "\n",
            " train_items =  16.0\n",
            " valid_items =  2.0\n",
            "\n",
            " average train_loss =  0.2027684734766808\n",
            " average valid_loss =  0.5600313097238541\n",
            "Epoch: 1 \t Average Training Loss: 0.202768 \t Average Validation Loss: 0.560031\n",
            "Validation loss decreased (1.058500 --> 0.560031).  Saving model ...\n",
            "####### EPOCH  2\n",
            " len(train_loader.dataset) =  400\n",
            "   train loss item =  0.017503857612609863\n",
            "   train loss item =  0.012020493857562542\n",
            "   train loss item =  1.2742114067077637\n",
            "   train loss item =  0.02505093812942505\n",
            "   train loss item =  0.03209812566637993\n",
            "   train loss item =  0.16146953403949738\n",
            "   train loss item =  0.1393091380596161\n",
            "   train loss item =  1.8395599126815796\n",
            "   train loss item =  6.752047061920166\n",
            "   train loss item =  0.016535572707653046\n",
            "   train loss item =  0.012823164463043213\n",
            "   train loss item =  0.04886973649263382\n",
            "   train loss item =  0.11911410838365555\n",
            "   train loss item =  0.8541668057441711\n",
            "   train loss item =  8.914411544799805\n",
            "   train loss item =  0.007184454007074237\n",
            " len(valid_loader.dataset) =  400\n",
            "   valid loss item =  5.69299840927124\n",
            "   valid loss item =  0.004451676271855831\n",
            "\n",
            " train_loss =  20.226375855272636\n",
            " valid_loss =  5.697450085543096\n",
            "\n",
            " train_items =  16.0\n",
            " valid_items =  2.0\n",
            "\n",
            " average train_loss =  1.2641484909545397\n",
            " average valid_loss =  2.848725042771548\n",
            "Epoch: 2 \t Average Training Loss: 1.264148 \t Average Validation Loss: 2.848725\n",
            "####### EPOCH  3\n",
            " len(train_loader.dataset) =  400\n",
            "   train loss item =  0.28011396527290344\n",
            "   train loss item =  0.23054836690425873\n",
            "   train loss item =  0.05393335595726967\n",
            "   train loss item =  1.2450270652770996\n",
            "   train loss item =  0.08126480132341385\n",
            "   train loss item =  0.5129839181900024\n",
            "   train loss item =  0.4966256022453308\n",
            "   train loss item =  0.08642233908176422\n",
            "   train loss item =  1.2715575695037842\n",
            "   train loss item =  0.1827414333820343\n",
            "   train loss item =  0.20200985670089722\n",
            "   train loss item =  0.2556696832180023\n",
            "   train loss item =  0.10684928297996521\n",
            "   train loss item =  0.11533006280660629\n",
            "   train loss item =  0.12136797606945038\n",
            "   train loss item =  0.1404786966741085\n",
            " len(valid_loader.dataset) =  400\n",
            "   valid loss item =  0.19773808121681213\n",
            "   valid loss item =  0.9970040023326874\n",
            "\n",
            " train_loss =  5.382923975586891\n",
            " valid_loss =  1.1947420835494995\n",
            "\n",
            " train_items =  16.0\n",
            " valid_items =  2.0\n",
            "\n",
            " average train_loss =  0.3364327484741807\n",
            " average valid_loss =  0.5973710417747498\n",
            "Epoch: 3 \t Average Training Loss: 0.336433 \t Average Validation Loss: 0.597371\n",
            "####### EPOCH  4\n",
            " len(train_loader.dataset) =  400\n",
            "   train loss item =  0.20712696015834808\n",
            "   train loss item =  0.07195495814085007\n",
            "   train loss item =  0.14663034677505493\n",
            "   train loss item =  0.1379862129688263\n",
            "   train loss item =  0.11275184154510498\n",
            "   train loss item =  0.16099438071250916\n",
            "   train loss item =  0.08503907173871994\n",
            "   train loss item =  0.0856439545750618\n",
            "   train loss item =  0.29068124294281006\n",
            "   train loss item =  0.017780523747205734\n",
            "   train loss item =  0.05050569772720337\n",
            "   train loss item =  0.011246606707572937\n",
            "   train loss item =  0.0094155790284276\n",
            "   train loss item =  0.059190504252910614\n",
            "   train loss item =  0.027335597202181816\n",
            "   train loss item =  0.02183528244495392\n",
            " len(valid_loader.dataset) =  400\n",
            "   valid loss item =  0.02724332921206951\n",
            "   valid loss item =  0.4153520464897156\n",
            "\n",
            " train_loss =  1.4961187606677413\n",
            " valid_loss =  0.4425953757017851\n",
            "\n",
            " train_items =  16.0\n",
            " valid_items =  2.0\n",
            "\n",
            " average train_loss =  0.09350742254173383\n",
            " average valid_loss =  0.22129768785089254\n",
            "Epoch: 4 \t Average Training Loss: 0.093507 \t Average Validation Loss: 0.221298\n",
            "Validation loss decreased (0.560031 --> 0.221298).  Saving model ...\n",
            "####### EPOCH  5\n",
            " len(train_loader.dataset) =  400\n",
            "   train loss item =  0.29646751284599304\n",
            "   train loss item =  0.06760089844465256\n",
            "   train loss item =  0.07073017954826355\n",
            "   train loss item =  0.053998708724975586\n",
            "   train loss item =  0.005736634135246277\n",
            "   train loss item =  0.0050850375555455685\n",
            "   train loss item =  0.0208502858877182\n",
            "   train loss item =  0.246884286403656\n",
            "   train loss item =  0.015171251259744167\n",
            "   train loss item =  0.02811436913907528\n",
            "   train loss item =  0.003049638122320175\n",
            "   train loss item =  0.001593883614987135\n",
            "   train loss item =  0.001167911570519209\n",
            "   train loss item =  0.1199827566742897\n",
            "   train loss item =  0.02852724678814411\n",
            "   train loss item =  1.006018728017807\n",
            " len(valid_loader.dataset) =  400\n",
            "   valid loss item =  0.4509490430355072\n",
            "   valid loss item =  0.032683937810361385\n",
            "\n",
            " train_loss =  1.9709793287329376\n",
            " valid_loss =  0.4836329808458686\n",
            "\n",
            " train_items =  16.0\n",
            " valid_items =  2.0\n",
            "\n",
            " average train_loss =  0.1231862080458086\n",
            " average valid_loss =  0.2418164904229343\n",
            "Epoch: 5 \t Average Training Loss: 0.123186 \t Average Validation Loss: 0.241816\n"
          ]
        },
        {
          "output_type": "display_data",
          "data": {
            "text/plain": [
              "<Figure size 640x480 with 1 Axes>"
            ],
            "image/png": "[encoded data removed]"
          },
          "metadata": {}
        },
        {
          "output_type": "display_data",
          "data": {
            "text/plain": [
              "None"
            ]
          },
          "metadata": {}
        }
      ]
    },
    {
      "cell_type": "code",
      "source": [
        "#######################################################\n",
        "# Analysis of the Model\n",
        "# plotting loss and accuracy over epochs to see how it changed over training\n",
        "######################################################\n",
        "print(\"\\n ****************  START TEST ******************* \")\n",
        "# plot the accuracy\n",
        "# confusion matrix\n",
        "# dont train for 700 epochs - do for less ~20\n",
        "\n",
        "# track test loss\n",
        "test_loss = 0.0\n",
        "class_correct = list(0. for i in range(2))\n",
        "class_total = list(0. for i in range(2))\n",
        "\n",
        "model.eval()\n",
        "i=1\n",
        "# iterate over test data\n",
        "len(test_loader)\n",
        "for data, target in test_loader:\n",
        "    i=i+1\n",
        "    if len(target)!=batch_size:\n",
        "        continue\n",
        "        \n",
        "    # move tensors to GPU if CUDA is available\n",
        "    if train_on_gpu:\n",
        "        data, target = data.cuda(), target.cuda()\n",
        "    # forward pass: compute predicted outputs by passing inputs to the model\n",
        "    output = model(data)\n",
        "    # calculate the batch loss\n",
        "    loss = criterion(output, target)\n",
        "    # update test loss \n",
        "    test_loss += loss.item()*data.size(0)\n",
        "    # convert output probabilities to predicted class\n",
        "    _, pred = torch.max(output, 1)    \n",
        "    # compare predictions to true label\n",
        "    correct_tensor = pred.eq(target.data.view_as(pred))\n",
        "    correct = np.squeeze(correct_tensor.numpy()) if not train_on_gpu else np.squeeze(correct_tensor.cpu().numpy())\n",
        "    # calculate test accuracy for each object class\n",
        "#     print(target)\n",
        "    \n",
        "    for i in range(batch_size):       \n",
        "        label = target.data[i]\n",
        "        class_correct[label] += correct[i].item()\n",
        "        class_total[label] += 1\n",
        "\n",
        "# average test loss\n",
        "test_loss = test_loss/len(test_loader.dataset)\n",
        "print('Test Loss: {:.6f}\\n'.format(test_loss))\n",
        "\n",
        "for i in range(2):\n",
        "    if class_total[i] > 0:\n",
        "        print('Test Accuracy of %5s: %2d%% (%2d/%2d)' % (\n",
        "            classes[i], 100 * class_correct[i] / class_total[i],\n",
        "            np.sum(class_correct[i]), np.sum(class_total[i])))\n",
        "    else:\n",
        "        print('Test Accuracy of %5s: N/A (no training examples)' % (classes[i]))\n",
        "\n",
        "print('\\nTest Accuracy (Overall): %2d%% (%2d/%2d)' % (\n",
        "    100. * np.sum(class_correct) / np.sum(class_total),\n",
        "    np.sum(class_correct), np.sum(class_total)))"
      ],
      "metadata": {
        "colab": {
          "base_uri": "https://localhost:8080/"
        },
        "id": "4zgOFcN4UXWF",
        "outputId": "a6e8fa5b-b705-49c1-8ff3-f639f1119967"
      },
      "execution_count": null,
      "outputs": [
        {
          "output_type": "stream",
          "name": "stdout",
          "text": [
            "\n",
            " ****************  START TEST ******************* \n",
            "Test Loss: 0.030040\n",
            "\n",
            "Test Accuracy of     0: 95% (57/60)\n",
            "Test Accuracy of     1: 94% (49/52)\n",
            "\n",
            "Test Accuracy (Overall): 94% (106/112)\n"
          ]
        }
      ]
    }
  ]
}